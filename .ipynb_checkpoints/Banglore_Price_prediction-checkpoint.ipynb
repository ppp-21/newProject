{
 "cells": [
  {
   "cell_type": "code",
   "execution_count": 1,
   "id": "31bd83c8",
   "metadata": {},
   "outputs": [],
   "source": [
    "import pandas as pd\n",
    "import numpy as np\n",
    "from sklearn.model_selection import train_test_split\n",
    "from sklearn.linear_model import LinearRegression,Lasso,Ridge\n",
    "from sklearn.model_selection import GridSearchCV,RandomizedSearchCV\n",
    "from sklearn.metrics import mean_absolute_error,mean_squared_error,r2_score\n",
    "import matplotlib.pyplot as plt\n",
    "import seaborn as sns\n",
    "import warnings\n",
    "warnings.filterwarnings('ignore')\n"
   ]
  },
  {
   "cell_type": "code",
   "execution_count": 4,
   "id": "e8fc1057",
   "metadata": {},
   "outputs": [
    {
     "data": {
      "text/html": [
       "<div>\n",
       "<style scoped>\n",
       "    .dataframe tbody tr th:only-of-type {\n",
       "        vertical-align: middle;\n",
       "    }\n",
       "\n",
       "    .dataframe tbody tr th {\n",
       "        vertical-align: top;\n",
       "    }\n",
       "\n",
       "    .dataframe thead th {\n",
       "        text-align: right;\n",
       "    }\n",
       "</style>\n",
       "<table border=\"1\" class=\"dataframe\">\n",
       "  <thead>\n",
       "    <tr style=\"text-align: right;\">\n",
       "      <th></th>\n",
       "      <th>area_type</th>\n",
       "      <th>availability</th>\n",
       "      <th>location</th>\n",
       "      <th>size</th>\n",
       "      <th>society</th>\n",
       "      <th>total_sqft</th>\n",
       "      <th>bath</th>\n",
       "      <th>balcony</th>\n",
       "      <th>price</th>\n",
       "    </tr>\n",
       "  </thead>\n",
       "  <tbody>\n",
       "    <tr>\n",
       "      <th>0</th>\n",
       "      <td>Super built-up  Area</td>\n",
       "      <td>19-Dec</td>\n",
       "      <td>Electronic City Phase II</td>\n",
       "      <td>2 BHK</td>\n",
       "      <td>Coomee</td>\n",
       "      <td>1056</td>\n",
       "      <td>2.0</td>\n",
       "      <td>1.0</td>\n",
       "      <td>39.07</td>\n",
       "    </tr>\n",
       "    <tr>\n",
       "      <th>1</th>\n",
       "      <td>Plot  Area</td>\n",
       "      <td>Ready To Move</td>\n",
       "      <td>Chikka Tirupathi</td>\n",
       "      <td>4 Bedroom</td>\n",
       "      <td>Theanmp</td>\n",
       "      <td>2600</td>\n",
       "      <td>5.0</td>\n",
       "      <td>3.0</td>\n",
       "      <td>120.00</td>\n",
       "    </tr>\n",
       "    <tr>\n",
       "      <th>2</th>\n",
       "      <td>Built-up  Area</td>\n",
       "      <td>Ready To Move</td>\n",
       "      <td>Uttarahalli</td>\n",
       "      <td>3 BHK</td>\n",
       "      <td>NaN</td>\n",
       "      <td>1440</td>\n",
       "      <td>2.0</td>\n",
       "      <td>3.0</td>\n",
       "      <td>62.00</td>\n",
       "    </tr>\n",
       "    <tr>\n",
       "      <th>3</th>\n",
       "      <td>Super built-up  Area</td>\n",
       "      <td>Ready To Move</td>\n",
       "      <td>Lingadheeranahalli</td>\n",
       "      <td>3 BHK</td>\n",
       "      <td>Soiewre</td>\n",
       "      <td>1521</td>\n",
       "      <td>3.0</td>\n",
       "      <td>1.0</td>\n",
       "      <td>95.00</td>\n",
       "    </tr>\n",
       "    <tr>\n",
       "      <th>4</th>\n",
       "      <td>Super built-up  Area</td>\n",
       "      <td>Ready To Move</td>\n",
       "      <td>Kothanur</td>\n",
       "      <td>2 BHK</td>\n",
       "      <td>NaN</td>\n",
       "      <td>1200</td>\n",
       "      <td>2.0</td>\n",
       "      <td>1.0</td>\n",
       "      <td>51.00</td>\n",
       "    </tr>\n",
       "    <tr>\n",
       "      <th>...</th>\n",
       "      <td>...</td>\n",
       "      <td>...</td>\n",
       "      <td>...</td>\n",
       "      <td>...</td>\n",
       "      <td>...</td>\n",
       "      <td>...</td>\n",
       "      <td>...</td>\n",
       "      <td>...</td>\n",
       "      <td>...</td>\n",
       "    </tr>\n",
       "    <tr>\n",
       "      <th>13315</th>\n",
       "      <td>Built-up  Area</td>\n",
       "      <td>Ready To Move</td>\n",
       "      <td>Whitefield</td>\n",
       "      <td>5 Bedroom</td>\n",
       "      <td>ArsiaEx</td>\n",
       "      <td>3453</td>\n",
       "      <td>4.0</td>\n",
       "      <td>0.0</td>\n",
       "      <td>231.00</td>\n",
       "    </tr>\n",
       "    <tr>\n",
       "      <th>13316</th>\n",
       "      <td>Super built-up  Area</td>\n",
       "      <td>Ready To Move</td>\n",
       "      <td>Richards Town</td>\n",
       "      <td>4 BHK</td>\n",
       "      <td>NaN</td>\n",
       "      <td>3600</td>\n",
       "      <td>5.0</td>\n",
       "      <td>NaN</td>\n",
       "      <td>400.00</td>\n",
       "    </tr>\n",
       "    <tr>\n",
       "      <th>13317</th>\n",
       "      <td>Built-up  Area</td>\n",
       "      <td>Ready To Move</td>\n",
       "      <td>Raja Rajeshwari Nagar</td>\n",
       "      <td>2 BHK</td>\n",
       "      <td>Mahla T</td>\n",
       "      <td>1141</td>\n",
       "      <td>2.0</td>\n",
       "      <td>1.0</td>\n",
       "      <td>60.00</td>\n",
       "    </tr>\n",
       "    <tr>\n",
       "      <th>13318</th>\n",
       "      <td>Super built-up  Area</td>\n",
       "      <td>18-Jun</td>\n",
       "      <td>Padmanabhanagar</td>\n",
       "      <td>4 BHK</td>\n",
       "      <td>SollyCl</td>\n",
       "      <td>4689</td>\n",
       "      <td>4.0</td>\n",
       "      <td>1.0</td>\n",
       "      <td>488.00</td>\n",
       "    </tr>\n",
       "    <tr>\n",
       "      <th>13319</th>\n",
       "      <td>Super built-up  Area</td>\n",
       "      <td>Ready To Move</td>\n",
       "      <td>Doddathoguru</td>\n",
       "      <td>1 BHK</td>\n",
       "      <td>NaN</td>\n",
       "      <td>550</td>\n",
       "      <td>1.0</td>\n",
       "      <td>1.0</td>\n",
       "      <td>17.00</td>\n",
       "    </tr>\n",
       "  </tbody>\n",
       "</table>\n",
       "<p>13320 rows × 9 columns</p>\n",
       "</div>"
      ],
      "text/plain": [
       "                  area_type   availability                  location  \\\n",
       "0      Super built-up  Area         19-Dec  Electronic City Phase II   \n",
       "1                Plot  Area  Ready To Move          Chikka Tirupathi   \n",
       "2            Built-up  Area  Ready To Move               Uttarahalli   \n",
       "3      Super built-up  Area  Ready To Move        Lingadheeranahalli   \n",
       "4      Super built-up  Area  Ready To Move                  Kothanur   \n",
       "...                     ...            ...                       ...   \n",
       "13315        Built-up  Area  Ready To Move                Whitefield   \n",
       "13316  Super built-up  Area  Ready To Move             Richards Town   \n",
       "13317        Built-up  Area  Ready To Move     Raja Rajeshwari Nagar   \n",
       "13318  Super built-up  Area         18-Jun           Padmanabhanagar   \n",
       "13319  Super built-up  Area  Ready To Move              Doddathoguru   \n",
       "\n",
       "            size  society total_sqft  bath  balcony   price  \n",
       "0          2 BHK  Coomee        1056   2.0      1.0   39.07  \n",
       "1      4 Bedroom  Theanmp       2600   5.0      3.0  120.00  \n",
       "2          3 BHK      NaN       1440   2.0      3.0   62.00  \n",
       "3          3 BHK  Soiewre       1521   3.0      1.0   95.00  \n",
       "4          2 BHK      NaN       1200   2.0      1.0   51.00  \n",
       "...          ...      ...        ...   ...      ...     ...  \n",
       "13315  5 Bedroom  ArsiaEx       3453   4.0      0.0  231.00  \n",
       "13316      4 BHK      NaN       3600   5.0      NaN  400.00  \n",
       "13317      2 BHK  Mahla T       1141   2.0      1.0   60.00  \n",
       "13318      4 BHK  SollyCl       4689   4.0      1.0  488.00  \n",
       "13319      1 BHK      NaN        550   1.0      1.0   17.00  \n",
       "\n",
       "[13320 rows x 9 columns]"
      ]
     },
     "execution_count": 4,
     "metadata": {},
     "output_type": "execute_result"
    }
   ],
   "source": [
    "df=pd.read_csv(\"Bengaluru_House_Data.csv\")\n",
    "df"
   ]
  },
  {
   "cell_type": "code",
   "execution_count": 5,
   "id": "0ece9b8a",
   "metadata": {},
   "outputs": [
    {
     "name": "stdout",
     "output_type": "stream",
     "text": [
      "<class 'pandas.core.frame.DataFrame'>\n",
      "RangeIndex: 13320 entries, 0 to 13319\n",
      "Data columns (total 9 columns):\n",
      " #   Column        Non-Null Count  Dtype  \n",
      "---  ------        --------------  -----  \n",
      " 0   area_type     13320 non-null  object \n",
      " 1   availability  13320 non-null  object \n",
      " 2   location      13319 non-null  object \n",
      " 3   size          13304 non-null  object \n",
      " 4   society       7818 non-null   object \n",
      " 5   total_sqft    13320 non-null  object \n",
      " 6   bath          13247 non-null  float64\n",
      " 7   balcony       12711 non-null  float64\n",
      " 8   price         13320 non-null  float64\n",
      "dtypes: float64(3), object(6)\n",
      "memory usage: 936.7+ KB\n"
     ]
    }
   ],
   "source": [
    "df.info()"
   ]
  },
  {
   "cell_type": "code",
   "execution_count": 7,
   "id": "9de5f673",
   "metadata": {},
   "outputs": [
    {
     "data": {
      "text/html": [
       "<div>\n",
       "<style scoped>\n",
       "    .dataframe tbody tr th:only-of-type {\n",
       "        vertical-align: middle;\n",
       "    }\n",
       "\n",
       "    .dataframe tbody tr th {\n",
       "        vertical-align: top;\n",
       "    }\n",
       "\n",
       "    .dataframe thead th {\n",
       "        text-align: right;\n",
       "    }\n",
       "</style>\n",
       "<table border=\"1\" class=\"dataframe\">\n",
       "  <thead>\n",
       "    <tr style=\"text-align: right;\">\n",
       "      <th></th>\n",
       "      <th>bath</th>\n",
       "      <th>balcony</th>\n",
       "      <th>price</th>\n",
       "    </tr>\n",
       "  </thead>\n",
       "  <tbody>\n",
       "    <tr>\n",
       "      <th>count</th>\n",
       "      <td>13247.000000</td>\n",
       "      <td>12711.000000</td>\n",
       "      <td>13320.000000</td>\n",
       "    </tr>\n",
       "    <tr>\n",
       "      <th>mean</th>\n",
       "      <td>2.692610</td>\n",
       "      <td>1.584376</td>\n",
       "      <td>112.565627</td>\n",
       "    </tr>\n",
       "    <tr>\n",
       "      <th>std</th>\n",
       "      <td>1.341458</td>\n",
       "      <td>0.817263</td>\n",
       "      <td>148.971674</td>\n",
       "    </tr>\n",
       "    <tr>\n",
       "      <th>min</th>\n",
       "      <td>1.000000</td>\n",
       "      <td>0.000000</td>\n",
       "      <td>8.000000</td>\n",
       "    </tr>\n",
       "    <tr>\n",
       "      <th>25%</th>\n",
       "      <td>2.000000</td>\n",
       "      <td>1.000000</td>\n",
       "      <td>50.000000</td>\n",
       "    </tr>\n",
       "    <tr>\n",
       "      <th>50%</th>\n",
       "      <td>2.000000</td>\n",
       "      <td>2.000000</td>\n",
       "      <td>72.000000</td>\n",
       "    </tr>\n",
       "    <tr>\n",
       "      <th>75%</th>\n",
       "      <td>3.000000</td>\n",
       "      <td>2.000000</td>\n",
       "      <td>120.000000</td>\n",
       "    </tr>\n",
       "    <tr>\n",
       "      <th>max</th>\n",
       "      <td>40.000000</td>\n",
       "      <td>3.000000</td>\n",
       "      <td>3600.000000</td>\n",
       "    </tr>\n",
       "  </tbody>\n",
       "</table>\n",
       "</div>"
      ],
      "text/plain": [
       "               bath       balcony         price\n",
       "count  13247.000000  12711.000000  13320.000000\n",
       "mean       2.692610      1.584376    112.565627\n",
       "std        1.341458      0.817263    148.971674\n",
       "min        1.000000      0.000000      8.000000\n",
       "25%        2.000000      1.000000     50.000000\n",
       "50%        2.000000      2.000000     72.000000\n",
       "75%        3.000000      2.000000    120.000000\n",
       "max       40.000000      3.000000   3600.000000"
      ]
     },
     "execution_count": 7,
     "metadata": {},
     "output_type": "execute_result"
    }
   ],
   "source": [
    "df.describe()"
   ]
  },
  {
   "cell_type": "code",
   "execution_count": 11,
   "id": "225c5d22",
   "metadata": {},
   "outputs": [
    {
     "data": {
      "text/plain": [
       "Index(['area_type', 'availability', 'location', 'size', 'society',\n",
       "       'total_sqft', 'bath', 'balcony', 'price'],\n",
       "      dtype='object')"
      ]
     },
     "execution_count": 11,
     "metadata": {},
     "output_type": "execute_result"
    }
   ],
   "source": [
    "df.columns"
   ]
  },
  {
   "cell_type": "code",
   "execution_count": 13,
   "id": "aff4333e",
   "metadata": {},
   "outputs": [
    {
     "data": {
      "text/plain": [
       "array(['Super built-up  Area', 'Plot  Area', 'Built-up  Area',\n",
       "       'Carpet  Area'], dtype=object)"
      ]
     },
     "execution_count": 13,
     "metadata": {},
     "output_type": "execute_result"
    }
   ],
   "source": [
    "df['area_type'].unique()"
   ]
  },
  {
   "cell_type": "code",
   "execution_count": 16,
   "id": "4e660014",
   "metadata": {},
   "outputs": [
    {
     "data": {
      "text/plain": [
       "array([ 1.,  3., nan,  2.,  0.])"
      ]
     },
     "execution_count": 16,
     "metadata": {},
     "output_type": "execute_result"
    }
   ],
   "source": [
    "df['balcony'].unique()"
   ]
  },
  {
   "cell_type": "code",
   "execution_count": 17,
   "id": "98c45e2b",
   "metadata": {},
   "outputs": [
    {
     "data": {
      "text/plain": [
       "array(['19-Dec', 'Ready To Move', '18-May', '18-Feb', '18-Nov', '20-Dec',\n",
       "       '17-Oct', '21-Dec', '19-Sep', '20-Sep', '18-Mar', '20-Feb',\n",
       "       '18-Apr', '20-Aug', '18-Oct', '19-Mar', '17-Sep', '18-Dec',\n",
       "       '17-Aug', '19-Apr', '18-Jun', '22-Dec', '22-Jan', '18-Aug',\n",
       "       '19-Jan', '17-Jul', '18-Jul', '21-Jun', '20-May', '19-Aug',\n",
       "       '18-Sep', '17-May', '17-Jun', '21-May', '18-Jan', '20-Mar',\n",
       "       '17-Dec', '16-Mar', '19-Jun', '22-Jun', '19-Jul', '21-Feb',\n",
       "       'Immediate Possession', '19-May', '17-Nov', '20-Oct', '20-Jun',\n",
       "       '19-Feb', '21-Oct', '21-Jan', '17-Mar', '17-Apr', '22-May',\n",
       "       '19-Oct', '21-Jul', '21-Nov', '21-Mar', '16-Dec', '22-Mar',\n",
       "       '20-Jan', '21-Sep', '21-Aug', '14-Nov', '19-Nov', '15-Nov',\n",
       "       '16-Jul', '15-Jun', '17-Feb', '20-Nov', '20-Jul', '16-Sep',\n",
       "       '15-Oct', '15-Dec', '16-Oct', '22-Nov', '15-Aug', '17-Jan',\n",
       "       '16-Nov', '20-Apr', '16-Jan', '14-Jul'], dtype=object)"
      ]
     },
     "execution_count": 17,
     "metadata": {},
     "output_type": "execute_result"
    }
   ],
   "source": [
    "df[\"availability\"].unique()"
   ]
  },
  {
   "cell_type": "code",
   "execution_count": 20,
   "id": "a739b6b0",
   "metadata": {},
   "outputs": [
    {
     "data": {
      "text/plain": [
       "area_type          0\n",
       "availability       0\n",
       "location           1\n",
       "size              16\n",
       "society         5502\n",
       "total_sqft         0\n",
       "bath              73\n",
       "balcony          609\n",
       "price              0\n",
       "dtype: int64"
      ]
     },
     "execution_count": 20,
     "metadata": {},
     "output_type": "execute_result"
    }
   ],
   "source": [
    "df.isnull().sum()"
   ]
  },
  {
   "cell_type": "code",
   "execution_count": 21,
   "id": "c3ba9dde",
   "metadata": {},
   "outputs": [
    {
     "data": {
      "text/html": [
       "<div>\n",
       "<style scoped>\n",
       "    .dataframe tbody tr th:only-of-type {\n",
       "        vertical-align: middle;\n",
       "    }\n",
       "\n",
       "    .dataframe tbody tr th {\n",
       "        vertical-align: top;\n",
       "    }\n",
       "\n",
       "    .dataframe thead th {\n",
       "        text-align: right;\n",
       "    }\n",
       "</style>\n",
       "<table border=\"1\" class=\"dataframe\">\n",
       "  <thead>\n",
       "    <tr style=\"text-align: right;\">\n",
       "      <th></th>\n",
       "      <th>area_type</th>\n",
       "      <th>availability</th>\n",
       "      <th>location</th>\n",
       "      <th>size</th>\n",
       "      <th>total_sqft</th>\n",
       "      <th>bath</th>\n",
       "      <th>balcony</th>\n",
       "      <th>price</th>\n",
       "    </tr>\n",
       "  </thead>\n",
       "  <tbody>\n",
       "    <tr>\n",
       "      <th>0</th>\n",
       "      <td>Super built-up  Area</td>\n",
       "      <td>19-Dec</td>\n",
       "      <td>Electronic City Phase II</td>\n",
       "      <td>2 BHK</td>\n",
       "      <td>1056</td>\n",
       "      <td>2.0</td>\n",
       "      <td>1.0</td>\n",
       "      <td>39.07</td>\n",
       "    </tr>\n",
       "    <tr>\n",
       "      <th>1</th>\n",
       "      <td>Plot  Area</td>\n",
       "      <td>Ready To Move</td>\n",
       "      <td>Chikka Tirupathi</td>\n",
       "      <td>4 Bedroom</td>\n",
       "      <td>2600</td>\n",
       "      <td>5.0</td>\n",
       "      <td>3.0</td>\n",
       "      <td>120.00</td>\n",
       "    </tr>\n",
       "    <tr>\n",
       "      <th>2</th>\n",
       "      <td>Built-up  Area</td>\n",
       "      <td>Ready To Move</td>\n",
       "      <td>Uttarahalli</td>\n",
       "      <td>3 BHK</td>\n",
       "      <td>1440</td>\n",
       "      <td>2.0</td>\n",
       "      <td>3.0</td>\n",
       "      <td>62.00</td>\n",
       "    </tr>\n",
       "    <tr>\n",
       "      <th>3</th>\n",
       "      <td>Super built-up  Area</td>\n",
       "      <td>Ready To Move</td>\n",
       "      <td>Lingadheeranahalli</td>\n",
       "      <td>3 BHK</td>\n",
       "      <td>1521</td>\n",
       "      <td>3.0</td>\n",
       "      <td>1.0</td>\n",
       "      <td>95.00</td>\n",
       "    </tr>\n",
       "    <tr>\n",
       "      <th>4</th>\n",
       "      <td>Super built-up  Area</td>\n",
       "      <td>Ready To Move</td>\n",
       "      <td>Kothanur</td>\n",
       "      <td>2 BHK</td>\n",
       "      <td>1200</td>\n",
       "      <td>2.0</td>\n",
       "      <td>1.0</td>\n",
       "      <td>51.00</td>\n",
       "    </tr>\n",
       "  </tbody>\n",
       "</table>\n",
       "</div>"
      ],
      "text/plain": [
       "              area_type   availability                  location       size  \\\n",
       "0  Super built-up  Area         19-Dec  Electronic City Phase II      2 BHK   \n",
       "1            Plot  Area  Ready To Move          Chikka Tirupathi  4 Bedroom   \n",
       "2        Built-up  Area  Ready To Move               Uttarahalli      3 BHK   \n",
       "3  Super built-up  Area  Ready To Move        Lingadheeranahalli      3 BHK   \n",
       "4  Super built-up  Area  Ready To Move                  Kothanur      2 BHK   \n",
       "\n",
       "  total_sqft  bath  balcony   price  \n",
       "0       1056   2.0      1.0   39.07  \n",
       "1       2600   5.0      3.0  120.00  \n",
       "2       1440   2.0      3.0   62.00  \n",
       "3       1521   3.0      1.0   95.00  \n",
       "4       1200   2.0      1.0   51.00  "
      ]
     },
     "execution_count": 21,
     "metadata": {},
     "output_type": "execute_result"
    }
   ],
   "source": [
    "df=df.drop([\"society\"],axis=1)\n",
    "df.head()"
   ]
  },
  {
   "cell_type": "code",
   "execution_count": 24,
   "id": "0f396d8c",
   "metadata": {},
   "outputs": [
    {
     "data": {
      "text/plain": [
       "array(['Super built-up  Area', 'Plot  Area', 'Built-up  Area',\n",
       "       'Carpet  Area'], dtype=object)"
      ]
     },
     "execution_count": 24,
     "metadata": {},
     "output_type": "execute_result"
    }
   ],
   "source": [
    "df[\"area_type\"].unique()"
   ]
  },
  {
   "cell_type": "code",
   "execution_count": 34,
   "id": "f844b5a8",
   "metadata": {},
   "outputs": [
    {
     "data": {
      "text/plain": [
       "array(['Electronic City Phase II', 'Chikka Tirupathi', 'Uttarahalli', ...,\n",
       "       '12th cross srinivas nagar banshankari 3rd stage',\n",
       "       'Havanur extension', 'Abshot Layout'], dtype=object)"
      ]
     },
     "execution_count": 34,
     "metadata": {},
     "output_type": "execute_result"
    }
   ],
   "source": [
    "df[\"availability\"].unique()\n",
    "#'Ready To Move','Immediate Possession'\n",
    "\n",
    "ara=df[\"location\"].unique()\n",
    "\n"
   ]
  },
  {
   "cell_type": "code",
   "execution_count": 36,
   "id": "877064e0",
   "metadata": {},
   "outputs": [
    {
     "data": {
      "text/plain": [
       "1"
      ]
     },
     "execution_count": 36,
     "metadata": {},
     "output_type": "execute_result"
    }
   ],
   "source": [
    "df[\"location\"].isnull().sum()"
   ]
  },
  {
   "cell_type": "code",
   "execution_count": 35,
   "id": "fc2a73ca",
   "metadata": {},
   "outputs": [
    {
     "data": {
      "text/plain": [
       "array(['2 BHK', '4 Bedroom', '3 BHK', '4 BHK', '6 Bedroom', '3 Bedroom',\n",
       "       '1 BHK', '1 RK', '1 Bedroom', '8 Bedroom', '2 Bedroom',\n",
       "       '7 Bedroom', '5 BHK', '7 BHK', '6 BHK', '5 Bedroom', '11 BHK',\n",
       "       '9 BHK', nan, '9 Bedroom', '27 BHK', '10 Bedroom', '11 Bedroom',\n",
       "       '10 BHK', '19 BHK', '16 BHK', '43 Bedroom', '14 BHK', '8 BHK',\n",
       "       '12 Bedroom', '13 BHK', '18 Bedroom'], dtype=object)"
      ]
     },
     "execution_count": 35,
     "metadata": {},
     "output_type": "execute_result"
    }
   ],
   "source": [
    "df[\"size\"].unique()"
   ]
  },
  {
   "cell_type": "code",
   "execution_count": 37,
   "id": "cbce2d35",
   "metadata": {},
   "outputs": [
    {
     "data": {
      "text/plain": [
       "16"
      ]
     },
     "execution_count": 37,
     "metadata": {},
     "output_type": "execute_result"
    }
   ],
   "source": [
    "df[\"size\"].isnull().sum()"
   ]
  },
  {
   "cell_type": "code",
   "execution_count": 38,
   "id": "557620b2",
   "metadata": {},
   "outputs": [
    {
     "data": {
      "text/plain": [
       "0"
      ]
     },
     "execution_count": 38,
     "metadata": {},
     "output_type": "execute_result"
    }
   ],
   "source": [
    "\n",
    "df[\"total_sqft\"].isnull().sum()"
   ]
  },
  {
   "cell_type": "code",
   "execution_count": 40,
   "id": "449d29fc",
   "metadata": {},
   "outputs": [
    {
     "data": {
      "text/plain": [
       "73"
      ]
     },
     "execution_count": 40,
     "metadata": {},
     "output_type": "execute_result"
    }
   ],
   "source": [
    "df[\"bath\"].isnull().sum()"
   ]
  },
  {
   "cell_type": "code",
   "execution_count": 41,
   "id": "2af2510d",
   "metadata": {},
   "outputs": [
    {
     "data": {
      "text/plain": [
       "array([ 2.,  5.,  3.,  4.,  6.,  1.,  9., nan,  8.,  7., 11., 10., 14.,\n",
       "       27., 12., 16., 40., 15., 13., 18.])"
      ]
     },
     "execution_count": 41,
     "metadata": {},
     "output_type": "execute_result"
    }
   ],
   "source": [
    "df[\"bath\"].unique()"
   ]
  },
  {
   "cell_type": "code",
   "execution_count": 42,
   "id": "34e5205a",
   "metadata": {},
   "outputs": [
    {
     "data": {
      "text/plain": [
       "array([ 1.,  3., nan,  2.,  0.])"
      ]
     },
     "execution_count": 42,
     "metadata": {},
     "output_type": "execute_result"
    }
   ],
   "source": [
    "df[\"balcony\"].unique()"
   ]
  },
  {
   "cell_type": "code",
   "execution_count": 43,
   "id": "485df3ec",
   "metadata": {},
   "outputs": [
    {
     "data": {
      "text/plain": [
       "609"
      ]
     },
     "execution_count": 43,
     "metadata": {},
     "output_type": "execute_result"
    }
   ],
   "source": [
    "df[\"balcony\"].isnull().sum()"
   ]
  },
  {
   "cell_type": "code",
   "execution_count": 44,
   "id": "d923077b",
   "metadata": {},
   "outputs": [
    {
     "data": {
      "text/plain": [
       "area_type         0\n",
       "availability      0\n",
       "location          1\n",
       "size             16\n",
       "total_sqft        0\n",
       "bath             73\n",
       "balcony         609\n",
       "price             0\n",
       "dtype: int64"
      ]
     },
     "execution_count": 44,
     "metadata": {},
     "output_type": "execute_result"
    }
   ],
   "source": [
    "df.isnull().sum()"
   ]
  },
  {
   "cell_type": "markdown",
   "id": "e81e56a3",
   "metadata": {},
   "source": [
    "# col2: availability"
   ]
  },
  {
   "cell_type": "code",
   "execution_count": 45,
   "id": "c28a7336",
   "metadata": {},
   "outputs": [
    {
     "data": {
      "text/plain": [
       "array(['19-Dec', 'Ready To Move', '18-May', '18-Feb', '18-Nov', '20-Dec',\n",
       "       '17-Oct', '21-Dec', '19-Sep', '20-Sep', '18-Mar', '20-Feb',\n",
       "       '18-Apr', '20-Aug', '18-Oct', '19-Mar', '17-Sep', '18-Dec',\n",
       "       '17-Aug', '19-Apr', '18-Jun', '22-Dec', '22-Jan', '18-Aug',\n",
       "       '19-Jan', '17-Jul', '18-Jul', '21-Jun', '20-May', '19-Aug',\n",
       "       '18-Sep', '17-May', '17-Jun', '21-May', '18-Jan', '20-Mar',\n",
       "       '17-Dec', '16-Mar', '19-Jun', '22-Jun', '19-Jul', '21-Feb',\n",
       "       'Immediate Possession', '19-May', '17-Nov', '20-Oct', '20-Jun',\n",
       "       '19-Feb', '21-Oct', '21-Jan', '17-Mar', '17-Apr', '22-May',\n",
       "       '19-Oct', '21-Jul', '21-Nov', '21-Mar', '16-Dec', '22-Mar',\n",
       "       '20-Jan', '21-Sep', '21-Aug', '14-Nov', '19-Nov', '15-Nov',\n",
       "       '16-Jul', '15-Jun', '17-Feb', '20-Nov', '20-Jul', '16-Sep',\n",
       "       '15-Oct', '15-Dec', '16-Oct', '22-Nov', '15-Aug', '17-Jan',\n",
       "       '16-Nov', '20-Apr', '16-Jan', '14-Jul'], dtype=object)"
      ]
     },
     "execution_count": 45,
     "metadata": {},
     "output_type": "execute_result"
    }
   ],
   "source": [
    "df[\"availability\"].unique()"
   ]
  },
  {
   "cell_type": "code",
   "execution_count": 56,
   "id": "2cccb2b1",
   "metadata": {},
   "outputs": [],
   "source": [
    "df[\"availability\"]=df[\"availability\"].map({'Ready To Move':'Ready To Move','Immediate Possession':'Immediate Possession'})\n",
    "df[\"availability\"]=df[\"availability\"].replace({np.nan:\"others\"})"
   ]
  },
  {
   "cell_type": "code",
   "execution_count": 57,
   "id": "94bf648d",
   "metadata": {},
   "outputs": [
    {
     "data": {
      "text/plain": [
       "array(['others', 'Ready To Move', 'Immediate Possession'], dtype=object)"
      ]
     },
     "execution_count": 57,
     "metadata": {},
     "output_type": "execute_result"
    }
   ],
   "source": [
    "df[\"availability\"].unique()"
   ]
  },
  {
   "cell_type": "markdown",
   "id": "f830269c",
   "metadata": {},
   "source": [
    "# col3:location"
   ]
  },
  {
   "cell_type": "code",
   "execution_count": 61,
   "id": "6d38ca51",
   "metadata": {},
   "outputs": [
    {
     "data": {
      "text/plain": [
       "count          13319\n",
       "unique          1305\n",
       "top       Whitefield\n",
       "freq             540\n",
       "Name: location, dtype: object"
      ]
     },
     "execution_count": 61,
     "metadata": {},
     "output_type": "execute_result"
    }
   ],
   "source": [
    "df[\"location\"].describe()"
   ]
  },
  {
   "cell_type": "code",
   "execution_count": 62,
   "id": "f9f19918",
   "metadata": {},
   "outputs": [
    {
     "data": {
      "text/html": [
       "<div>\n",
       "<style scoped>\n",
       "    .dataframe tbody tr th:only-of-type {\n",
       "        vertical-align: middle;\n",
       "    }\n",
       "\n",
       "    .dataframe tbody tr th {\n",
       "        vertical-align: top;\n",
       "    }\n",
       "\n",
       "    .dataframe thead th {\n",
       "        text-align: right;\n",
       "    }\n",
       "</style>\n",
       "<table border=\"1\" class=\"dataframe\">\n",
       "  <thead>\n",
       "    <tr style=\"text-align: right;\">\n",
       "      <th></th>\n",
       "      <th>area_type</th>\n",
       "      <th>availability</th>\n",
       "      <th>location</th>\n",
       "      <th>size</th>\n",
       "      <th>total_sqft</th>\n",
       "      <th>bath</th>\n",
       "      <th>balcony</th>\n",
       "      <th>price</th>\n",
       "    </tr>\n",
       "  </thead>\n",
       "  <tbody>\n",
       "    <tr>\n",
       "      <th>5</th>\n",
       "      <td>Super built-up  Area</td>\n",
       "      <td>Ready To Move</td>\n",
       "      <td>Whitefield</td>\n",
       "      <td>2 BHK</td>\n",
       "      <td>1170</td>\n",
       "      <td>2.0</td>\n",
       "      <td>1.0</td>\n",
       "      <td>38.00</td>\n",
       "    </tr>\n",
       "    <tr>\n",
       "      <th>10</th>\n",
       "      <td>Super built-up  Area</td>\n",
       "      <td>others</td>\n",
       "      <td>Whitefield</td>\n",
       "      <td>3 BHK</td>\n",
       "      <td>1800</td>\n",
       "      <td>2.0</td>\n",
       "      <td>2.0</td>\n",
       "      <td>70.00</td>\n",
       "    </tr>\n",
       "    <tr>\n",
       "      <th>11</th>\n",
       "      <td>Plot  Area</td>\n",
       "      <td>Ready To Move</td>\n",
       "      <td>Whitefield</td>\n",
       "      <td>4 Bedroom</td>\n",
       "      <td>2785</td>\n",
       "      <td>5.0</td>\n",
       "      <td>3.0</td>\n",
       "      <td>295.00</td>\n",
       "    </tr>\n",
       "    <tr>\n",
       "      <th>27</th>\n",
       "      <td>Built-up  Area</td>\n",
       "      <td>others</td>\n",
       "      <td>Whitefield</td>\n",
       "      <td>3 BHK</td>\n",
       "      <td>1610</td>\n",
       "      <td>3.0</td>\n",
       "      <td>2.0</td>\n",
       "      <td>81.00</td>\n",
       "    </tr>\n",
       "    <tr>\n",
       "      <th>47</th>\n",
       "      <td>Super built-up  Area</td>\n",
       "      <td>others</td>\n",
       "      <td>Whitefield</td>\n",
       "      <td>2 BHK</td>\n",
       "      <td>1459</td>\n",
       "      <td>2.0</td>\n",
       "      <td>1.0</td>\n",
       "      <td>94.82</td>\n",
       "    </tr>\n",
       "    <tr>\n",
       "      <th>...</th>\n",
       "      <td>...</td>\n",
       "      <td>...</td>\n",
       "      <td>...</td>\n",
       "      <td>...</td>\n",
       "      <td>...</td>\n",
       "      <td>...</td>\n",
       "      <td>...</td>\n",
       "      <td>...</td>\n",
       "    </tr>\n",
       "    <tr>\n",
       "      <th>13235</th>\n",
       "      <td>Super built-up  Area</td>\n",
       "      <td>Ready To Move</td>\n",
       "      <td>Whitefield</td>\n",
       "      <td>3 BHK</td>\n",
       "      <td>1730</td>\n",
       "      <td>3.0</td>\n",
       "      <td>2.0</td>\n",
       "      <td>125.00</td>\n",
       "    </tr>\n",
       "    <tr>\n",
       "      <th>13257</th>\n",
       "      <td>Super built-up  Area</td>\n",
       "      <td>Ready To Move</td>\n",
       "      <td>Whitefield</td>\n",
       "      <td>3 BHK</td>\n",
       "      <td>1453</td>\n",
       "      <td>2.0</td>\n",
       "      <td>2.0</td>\n",
       "      <td>58.00</td>\n",
       "    </tr>\n",
       "    <tr>\n",
       "      <th>13258</th>\n",
       "      <td>Super built-up  Area</td>\n",
       "      <td>others</td>\n",
       "      <td>Whitefield</td>\n",
       "      <td>1 BHK</td>\n",
       "      <td>877</td>\n",
       "      <td>1.0</td>\n",
       "      <td>1.0</td>\n",
       "      <td>59.00</td>\n",
       "    </tr>\n",
       "    <tr>\n",
       "      <th>13299</th>\n",
       "      <td>Super built-up  Area</td>\n",
       "      <td>others</td>\n",
       "      <td>Whitefield</td>\n",
       "      <td>4 BHK</td>\n",
       "      <td>2830 - 2882</td>\n",
       "      <td>5.0</td>\n",
       "      <td>0.0</td>\n",
       "      <td>154.50</td>\n",
       "    </tr>\n",
       "    <tr>\n",
       "      <th>13315</th>\n",
       "      <td>Built-up  Area</td>\n",
       "      <td>Ready To Move</td>\n",
       "      <td>Whitefield</td>\n",
       "      <td>5 Bedroom</td>\n",
       "      <td>3453</td>\n",
       "      <td>4.0</td>\n",
       "      <td>0.0</td>\n",
       "      <td>231.00</td>\n",
       "    </tr>\n",
       "  </tbody>\n",
       "</table>\n",
       "<p>540 rows × 8 columns</p>\n",
       "</div>"
      ],
      "text/plain": [
       "                  area_type   availability    location       size  \\\n",
       "5      Super built-up  Area  Ready To Move  Whitefield      2 BHK   \n",
       "10     Super built-up  Area         others  Whitefield      3 BHK   \n",
       "11               Plot  Area  Ready To Move  Whitefield  4 Bedroom   \n",
       "27           Built-up  Area         others  Whitefield      3 BHK   \n",
       "47     Super built-up  Area         others  Whitefield      2 BHK   \n",
       "...                     ...            ...         ...        ...   \n",
       "13235  Super built-up  Area  Ready To Move  Whitefield      3 BHK   \n",
       "13257  Super built-up  Area  Ready To Move  Whitefield      3 BHK   \n",
       "13258  Super built-up  Area         others  Whitefield      1 BHK   \n",
       "13299  Super built-up  Area         others  Whitefield      4 BHK   \n",
       "13315        Built-up  Area  Ready To Move  Whitefield  5 Bedroom   \n",
       "\n",
       "        total_sqft  bath  balcony   price  \n",
       "5             1170   2.0      1.0   38.00  \n",
       "10            1800   2.0      2.0   70.00  \n",
       "11            2785   5.0      3.0  295.00  \n",
       "27            1610   3.0      2.0   81.00  \n",
       "47            1459   2.0      1.0   94.82  \n",
       "...            ...   ...      ...     ...  \n",
       "13235         1730   3.0      2.0  125.00  \n",
       "13257         1453   2.0      2.0   58.00  \n",
       "13258          877   1.0      1.0   59.00  \n",
       "13299  2830 - 2882   5.0      0.0  154.50  \n",
       "13315         3453   4.0      0.0  231.00  \n",
       "\n",
       "[540 rows x 8 columns]"
      ]
     },
     "execution_count": 62,
     "metadata": {},
     "output_type": "execute_result"
    }
   ],
   "source": [
    "df.loc[df[\"location\"]==\"Whitefield\"]"
   ]
  },
  {
   "cell_type": "code",
   "execution_count": null,
   "id": "8c843abe",
   "metadata": {},
   "outputs": [],
   "source": []
  }
 ],
 "metadata": {
  "kernelspec": {
   "display_name": "Python 3 (ipykernel)",
   "language": "python",
   "name": "python3"
  },
  "language_info": {
   "codemirror_mode": {
    "name": "ipython",
    "version": 3
   },
   "file_extension": ".py",
   "mimetype": "text/x-python",
   "name": "python",
   "nbconvert_exporter": "python",
   "pygments_lexer": "ipython3",
   "version": "3.10.6"
  }
 },
 "nbformat": 4,
 "nbformat_minor": 5
}
